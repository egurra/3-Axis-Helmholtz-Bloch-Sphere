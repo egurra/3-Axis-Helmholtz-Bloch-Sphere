{
 "cells": [
  {
   "cell_type": "code",
   "execution_count": 8,
   "metadata": {},
   "outputs": [],
   "source": [
    "import visa\n",
    "import time as t\n",
    "from copy import deepcopy\n",
    "import numpy as np\n",
    "from math import pi, sin\n",
    "from qiskit import *\n",
    "import sys"
   ]
  },
  {
   "cell_type": "code",
   "execution_count": 9,
   "metadata": {},
   "outputs": [],
   "source": [
    "rm = visa.ResourceManager()\n",
    "inst0 = rm.open_resource('USB0::0x05E6::0x2450::04399313::INSTR')\n",
    "inst1 = rm.open_resource('USB0::0x05E6::0x2450::04399315::INSTR')\n",
    "inst2 = rm.open_resource('USB0::0x05E6::0x2450::04434061::INSTR')"
   ]
  },
  {
   "cell_type": "code",
   "execution_count": 16,
   "metadata": {},
   "outputs": [],
   "source": [
    "delay = 0.005\n",
    "class BlochSphere:\n",
    "    rm = visa.ResourceManager()\n",
    "    inst0 = rm.open_resource('USB0::0x05E6::0x2450::04399313::INSTR')\n",
    "    inst1 = rm.open_resource('USB0::0x05E6::0x2450::04399315::INSTR')\n",
    "    inst2 = rm.open_resource('USB0::0x05E6::0x2450::04434061::INSTR')\n",
    "    \n",
    "    def __init__(self,circ,q,c):\n",
    "        self._circ = circ\n",
    "        self._q = q\n",
    "        self._c = c\n",
    "        #self.rm = rm = visa.ResourceManager()\n",
    "        \n",
    "    def getCounts(self,circ,q,c,shots):\n",
    "        job = execute(circ, backend = Aer.get_backend('qasm_simulator'), shots = shots)\n",
    "        counts = job.result().get_counts(circ)\n",
    "        return counts\n",
    "        \n",
    "    def x_comp(self,circ0,q,c):\n",
    "        delay = 0.1\n",
    "        circ0 = self._circ\n",
    "        q = self._q\n",
    "        c = self._c\n",
    "        shots = 10000\n",
    "        \n",
    "        circ = deepcopy(circ0)\n",
    "        circ.ry(-pi/2,q)\n",
    "        circ.measure(q,c)\n",
    "        c = self.getCounts(circ,q,c,shots)\n",
    "        x = (c.get('0',0) - c.get('1',0))/shots\n",
    "        print(x)\n",
    "        \n",
    "        inst0.write(':OUTP ON')\n",
    "        for i in range(abs(round(x*100))):\n",
    "            inst0.write('SOUR:CURR ' + str((i/100) * (abs(x)/x)))\n",
    "            t.sleep(delay)\n",
    "        \n",
    "    def y_comp(self,circ0,q,c):\n",
    "        delay = 0.1\n",
    "        circ0 = self._circ\n",
    "        q = self._q\n",
    "        c = self._c\n",
    "        shots = 10000\n",
    "        \n",
    "        circ = deepcopy(circ0)\n",
    "        circ.rx(pi/2,q)\n",
    "        circ.measure(q,c)\n",
    "        c = self.getCounts(circ,q,c,shots)\n",
    "        y = (c.get('0',0) - c.get('1',0))/shots\n",
    "        print(y)\n",
    "        inst1.write(':OUTP ON')\n",
    "        for i in range(abs(round(y*100))):\n",
    "            inst1.write('SOUR:CURR ' + str((i/100) * (abs(y)/y)))\n",
    "            t.sleep(delay)\n",
    "        \n",
    "    def z_comp(self,circ0,q,c):\n",
    "        delay = 0.1\n",
    "        circ0 = self._circ\n",
    "        q = self._q\n",
    "        c = self._c\n",
    "        shots = 10000\n",
    "        \n",
    "        circ = deepcopy(circ0)\n",
    "        circ.measure(q,c)\n",
    "        c = self.getCounts(circ,q,c,shots)\n",
    "        z = (c.get('0',0) - c.get('1',0))/shots\n",
    "        print(z)\n",
    "        \n",
    "        inst2.write(':OUTP ON')\n",
    "        for i in range(abs(round(z*100))):\n",
    "            inst2.write('SOUR:CURR ' + str((i/100) * (abs(z)/z)))\n",
    "            t.sleep(delay)\n",
    "    def off(self):\n",
    "        inst0.write(':OUTP OFF')\n",
    "        inst1.write(':OUTP OFF')\n",
    "        inst2.write(':OUTP OFF')\n",
    "    def run(self,circ,q,c):\n",
    "        self.x_comp(circ,q,c)\n",
    "        self.y_comp(circ,q,c)\n",
    "        self.z_comp(circ,q,c)\n",
    "  "
   ]
  },
  {
   "cell_type": "code",
   "execution_count": 17,
   "metadata": {},
   "outputs": [],
   "source": [
    "def initialize():\n",
    "    inst2.write(':OUTP ON')\n",
    "    inst2.write('SOUR:CURR 1.0')"
   ]
  },
  {
   "cell_type": "code",
   "execution_count": 25,
   "metadata": {},
   "outputs": [],
   "source": [
    "q = QuantumRegister(1)\n",
    "c = ClassicalRegister(1)\n",
    "circ1 = QuantumCircuit(q,c)\n",
    "circ1.h(q)\n",
    "circ1.rz(pi/2,q)\n",
    "initialize()\n"
   ]
  },
  {
   "cell_type": "code",
   "execution_count": 23,
   "metadata": {},
   "outputs": [
    {
     "name": "stdout",
     "output_type": "stream",
     "text": [
      "0.0006\n",
      "1.0\n",
      "0.0004\n"
     ]
    }
   ],
   "source": [
    "b1 = BlochSphere(circ1, q,c)\n",
    "b1.run(circ1,q,c)"
   ]
  },
  {
   "cell_type": "code",
   "execution_count": 24,
   "metadata": {},
   "outputs": [],
   "source": [
    "b1.off()"
   ]
  }
 ],
 "metadata": {
  "kernelspec": {
   "display_name": "Python 3",
   "language": "python",
   "name": "python3"
  },
  "language_info": {
   "codemirror_mode": {
    "name": "ipython",
    "version": 3
   },
   "file_extension": ".py",
   "mimetype": "text/x-python",
   "name": "python",
   "nbconvert_exporter": "python",
   "pygments_lexer": "ipython3",
   "version": "3.7.4"
  }
 },
 "nbformat": 4,
 "nbformat_minor": 2
}
